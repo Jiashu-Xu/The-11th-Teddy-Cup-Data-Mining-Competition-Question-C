{
 "cells": [
  {
   "cell_type": "code",
   "execution_count": 2,
   "metadata": {},
   "outputs": [],
   "source": [
    "import pandas as pd\n",
    "df = pd.read_csv(\"data/result1-1(2).csv\")\n",
    "df1 = pd.read_csv(\"data/result1-1(1).csv\")\n",
    "df['公司类型'] = df1['岗位数量']\n",
    "df['员工数量'] = df1['公司类型']\n",
    "df.to_csv(\"result1-1.csv\",index=False)"
   ]
  }
 ],
 "metadata": {
  "kernelspec": {
   "display_name": "normal",
   "language": "python",
   "name": "python3"
  },
  "language_info": {
   "codemirror_mode": {
    "name": "ipython",
    "version": 3
   },
   "file_extension": ".py",
   "mimetype": "text/x-python",
   "name": "python",
   "nbconvert_exporter": "python",
   "pygments_lexer": "ipython3",
   "version": "3.9.16"
  },
  "orig_nbformat": 4
 },
 "nbformat": 4,
 "nbformat_minor": 2
}
